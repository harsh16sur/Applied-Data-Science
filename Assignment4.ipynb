{
 "cells": [
  {
   "cell_type": "markdown",
   "metadata": {
    "collapsed": true
   },
   "source": [
    "# Assignment 4\n",
    "\n",
    "Before working on this assignment please read these instructions fully. In the submission area, you will notice that you can click the link to **Preview the Grading** for each step of the assignment. This is the criteria that will be used for peer grading. Please familiarize yourself with the criteria before beginning the assignment.\n",
    "\n",
    "This assignment requires that you to find **at least** two datasets on the web which are related, and that you visualize these datasets to answer a question with the broad topic of **sports or athletics** (see below) for the region of **Ann Arbor, Michigan, United States**, or **United States** more broadly.\n",
    "\n",
    "You can merge these datasets with data from different regions if you like! For instance, you might want to compare **Ann Arbor, Michigan, United States** to Ann Arbor, USA. In that case at least one source file must be about **Ann Arbor, Michigan, United States**.\n",
    "\n",
    "You are welcome to choose datasets at your discretion, but keep in mind **they will be shared with your peers**, so choose appropriate datasets. Sensitive, confidential, illicit, and proprietary materials are not good choices for datasets for this assignment. You are welcome to upload datasets of your own as well, and link to them using a third party repository such as github, bitbucket, pastebin, etc. Please be aware of the Coursera terms of service with respect to intellectual property.\n",
    "\n",
    "Also, you are welcome to preserve data in its original language, but for the purposes of grading you should provide english translations. You are welcome to provide multiple visuals in different languages if you would like!\n",
    "\n",
    "As this assignment is for the whole course, you must incorporate principles discussed in the first week, such as having as high data-ink ratio (Tufte) and aligning with Cairo’s principles of truth, beauty, function, and insight.\n",
    "\n",
    "Here are the assignment instructions:\n",
    "\n",
    " * State the region and the domain category that your data sets are about (e.g., **Ann Arbor, Michigan, United States** and **sports or athletics**).\n",
    " * You must state a question about the domain category and region that you identified as being interesting.\n",
    " * You must provide at least two links to available datasets. These could be links to files such as CSV or Excel files, or links to websites which might have data in tabular form, such as Wikipedia pages.\n",
    " * You must upload an image which addresses the research question you stated. In addition to addressing the question, this visual should follow Cairo's principles of truthfulness, functionality, beauty, and insightfulness.\n",
    " * You must contribute a short (1-2 paragraph) written justification of how your visualization addresses your stated research question.\n",
    "\n",
    "What do we mean by **sports or athletics**?  For this category we are interested in sporting events or athletics broadly, please feel free to creatively interpret the category when building your research question!\n",
    "\n",
    "## Tips\n",
    "* Wikipedia is an excellent source of data, and I strongly encourage you to explore it for new data sources.\n",
    "* Many governments run open data initiatives at the city, region, and country levels, and these are wonderful resources for localized data sources.\n",
    "* Several international agencies, such as the [United Nations](http://data.un.org/), the [World Bank](http://data.worldbank.org/), the [Global Open Data Index](http://index.okfn.org/place/) are other great places to look for data.\n",
    "* This assignment requires you to convert and clean datafiles. Check out the discussion forums for tips on how to do this from various sources, and share your successes with your fellow students!\n",
    "\n",
    "## Example\n",
    "Looking for an example? Here's what our course assistant put together for the **Ann Arbor, MI, USA** area using **sports and athletics** as the topic. [Example Solution File](./readonly/Assignment4_example.pdf)"
   ]
  },
  {
   "cell_type": "code",
   "execution_count": 27,
   "metadata": {
    "collapsed": true
   },
   "outputs": [],
   "source": [
    "#https://github.com/fivethirtyeight/data/tree/master/mlb-elo"
   ]
  },
  {
   "cell_type": "code",
   "execution_count": 28,
   "metadata": {
    "collapsed": false
   },
   "outputs": [],
   "source": [
    "import pandas as pd\n",
    "import numpy as np\n",
    "pd.set_option('display.max_rows', 100)\n",
    "pd.set_option('display.max_columns', 100)\n",
    "import matplotlib.pyplot as plt\n",
    "import seaborn as sns\n"
   ]
  },
  {
   "cell_type": "code",
   "execution_count": 29,
   "metadata": {
    "collapsed": false
   },
   "outputs": [],
   "source": [
    "data1=pd.read_excel('1871-1900.xlsx')\n",
    "data2=pd.read_excel('1901-1950.xlsx')\n",
    "data3=pd.read_excel('1951-1999.xlsx')\n",
    "\n"
   ]
  },
  {
   "cell_type": "code",
   "execution_count": 30,
   "metadata": {
    "collapsed": false
   },
   "outputs": [
    {
     "name": "stdout",
     "output_type": "stream",
     "text": [
      "1871\n",
      "1900\n"
     ]
    }
   ],
   "source": [
    "print(data1['season'].min())\n",
    "print(data1['season'].max())\n"
   ]
  },
  {
   "cell_type": "code",
   "execution_count": 31,
   "metadata": {
    "collapsed": false
   },
   "outputs": [
    {
     "name": "stdout",
     "output_type": "stream",
     "text": [
      "1901\n",
      "1950\n"
     ]
    }
   ],
   "source": [
    "print(data2['season'].min())\n",
    "print(data2['season'].max())\n"
   ]
  },
  {
   "cell_type": "code",
   "execution_count": 32,
   "metadata": {
    "collapsed": false
   },
   "outputs": [
    {
     "name": "stdout",
     "output_type": "stream",
     "text": [
      "1951\n",
      "1999\n"
     ]
    }
   ],
   "source": [
    "print(data3['season'].min())\n",
    "print(data3['season'].max())\n"
   ]
  },
  {
   "cell_type": "code",
   "execution_count": 33,
   "metadata": {
    "collapsed": false
   },
   "outputs": [
    {
     "data": {
      "text/plain": [
       "array(['STL', 'SFG', 'PIT', 'PHI', 'LAD', 'CHC', 'CIN', 'ATL', 'WS9',\n",
       "       'BL2', 'CL3', 'LS2', 'PHP', 'ML3', 'BSP', 'CL6', 'CN3', 'PH4',\n",
       "       'SR2', 'RC2', 'TL2', 'BR4', 'IN3', 'KC2', 'WS8', 'DTN', 'NY4',\n",
       "       'SLU', 'KCN', 'BFN', 'PRO', 'RIC', 'CL2', 'TL1', 'CL5', 'IN2',\n",
       "       'WS7', 'WOR', 'TRN', 'CN1', 'SR1', 'ML1', 'IN1', 'SL2', 'LS1',\n",
       "       'HR1', 'NY2', 'PH1', 'NH1', 'PH2', 'BR2', 'SL1', 'KEO', 'WS6',\n",
       "       'PH3', 'BL1', 'WS5', 'ELI', 'BL4', 'BR1', 'CL1', 'MID', 'TRO',\n",
       "       'WS4', 'WS3', 'FW1', 'RC1'], dtype=object)"
      ]
     },
     "execution_count": 33,
     "metadata": {},
     "output_type": "execute_result"
    }
   ],
   "source": [
    "# print(data4['season'].min())\n",
    "data1['team1'].unique()\n"
   ]
  },
  {
   "cell_type": "code",
   "execution_count": 34,
   "metadata": {
    "collapsed": false
   },
   "outputs": [
    {
     "data": {
      "text/html": [
       "<div>\n",
       "<table border=\"1\" class=\"dataframe\">\n",
       "  <thead>\n",
       "    <tr style=\"text-align: right;\">\n",
       "      <th></th>\n",
       "      <th>date</th>\n",
       "      <th>season</th>\n",
       "      <th>neutral</th>\n",
       "      <th>playoff</th>\n",
       "      <th>team1</th>\n",
       "      <th>team2</th>\n",
       "      <th>elo1_pre</th>\n",
       "      <th>elo2_pre</th>\n",
       "      <th>elo_prob1</th>\n",
       "      <th>elo_prob2</th>\n",
       "      <th>elo1_post</th>\n",
       "      <th>elo2_post</th>\n",
       "      <th>rating1_pre</th>\n",
       "      <th>rating2_pre</th>\n",
       "      <th>pitcher1</th>\n",
       "      <th>pitcher2</th>\n",
       "      <th>pitcher1_rgs</th>\n",
       "      <th>pitcher2_rgs</th>\n",
       "      <th>pitcher1_adj</th>\n",
       "      <th>pitcher2_adj</th>\n",
       "      <th>rating_prob1</th>\n",
       "      <th>rating_prob2</th>\n",
       "      <th>rating1_post</th>\n",
       "      <th>rating2_post</th>\n",
       "      <th>score1</th>\n",
       "      <th>score2</th>\n",
       "    </tr>\n",
       "  </thead>\n",
       "  <tbody>\n",
       "    <tr>\n",
       "      <th>0</th>\n",
       "      <td>1900-10-14</td>\n",
       "      <td>1900</td>\n",
       "      <td>0</td>\n",
       "      <td>NaN</td>\n",
       "      <td>STL</td>\n",
       "      <td>CIN</td>\n",
       "      <td>1506.277</td>\n",
       "      <td>1507.865</td>\n",
       "      <td>0.532209</td>\n",
       "      <td>0.467791</td>\n",
       "      <td>1509.500</td>\n",
       "      <td>1504.643</td>\n",
       "      <td>1506.484</td>\n",
       "      <td>1507.811</td>\n",
       "      <td>scote102</td>\n",
       "      <td>sudhw101</td>\n",
       "      <td>NaN</td>\n",
       "      <td>NaN</td>\n",
       "      <td>NaN</td>\n",
       "      <td>NaN</td>\n",
       "      <td>0.532583</td>\n",
       "      <td>0.467417</td>\n",
       "      <td>1509.703</td>\n",
       "      <td>1504.592</td>\n",
       "      <td>7</td>\n",
       "      <td>0</td>\n",
       "    </tr>\n",
       "    <tr>\n",
       "      <th>1</th>\n",
       "      <td>1900-10-13</td>\n",
       "      <td>1900</td>\n",
       "      <td>0</td>\n",
       "      <td>NaN</td>\n",
       "      <td>STL</td>\n",
       "      <td>CIN</td>\n",
       "      <td>1505.011</td>\n",
       "      <td>1509.132</td>\n",
       "      <td>0.528577</td>\n",
       "      <td>0.471423</td>\n",
       "      <td>1506.277</td>\n",
       "      <td>1507.865</td>\n",
       "      <td>1505.217</td>\n",
       "      <td>1509.078</td>\n",
       "      <td>hahnn101</td>\n",
       "      <td>jonec107</td>\n",
       "      <td>NaN</td>\n",
       "      <td>NaN</td>\n",
       "      <td>NaN</td>\n",
       "      <td>NaN</td>\n",
       "      <td>0.531808</td>\n",
       "      <td>0.468192</td>\n",
       "      <td>1506.484</td>\n",
       "      <td>1507.811</td>\n",
       "      <td>3</td>\n",
       "      <td>2</td>\n",
       "    </tr>\n",
       "    <tr>\n",
       "      <th>2</th>\n",
       "      <td>1900-10-13</td>\n",
       "      <td>1900</td>\n",
       "      <td>0</td>\n",
       "      <td>NaN</td>\n",
       "      <td>SFG</td>\n",
       "      <td>LAD</td>\n",
       "      <td>1486.138</td>\n",
       "      <td>1549.014</td>\n",
       "      <td>0.444285</td>\n",
       "      <td>0.555715</td>\n",
       "      <td>1484.965</td>\n",
       "      <td>1550.187</td>\n",
       "      <td>1486.097</td>\n",
       "      <td>1549.106</td>\n",
       "      <td>howeh101</td>\n",
       "      <td>tayld102</td>\n",
       "      <td>NaN</td>\n",
       "      <td>NaN</td>\n",
       "      <td>NaN</td>\n",
       "      <td>NaN</td>\n",
       "      <td>0.444096</td>\n",
       "      <td>0.555904</td>\n",
       "      <td>1484.925</td>\n",
       "      <td>1550.278</td>\n",
       "      <td>0</td>\n",
       "      <td>1</td>\n",
       "    </tr>\n",
       "    <tr>\n",
       "      <th>3</th>\n",
       "      <td>1900-10-13</td>\n",
       "      <td>1900</td>\n",
       "      <td>0</td>\n",
       "      <td>NaN</td>\n",
       "      <td>PIT</td>\n",
       "      <td>CHC</td>\n",
       "      <td>1565.552</td>\n",
       "      <td>1477.651</td>\n",
       "      <td>0.655692</td>\n",
       "      <td>0.344308</td>\n",
       "      <td>1563.168</td>\n",
       "      <td>1480.035</td>\n",
       "      <td>1565.659</td>\n",
       "      <td>1477.571</td>\n",
       "      <td>menej101</td>\n",
       "      <td>tannj101</td>\n",
       "      <td>NaN</td>\n",
       "      <td>NaN</td>\n",
       "      <td>NaN</td>\n",
       "      <td>NaN</td>\n",
       "      <td>0.655935</td>\n",
       "      <td>0.344065</td>\n",
       "      <td>1563.273</td>\n",
       "      <td>1479.956</td>\n",
       "      <td>5</td>\n",
       "      <td>7</td>\n",
       "    </tr>\n",
       "    <tr>\n",
       "      <th>4</th>\n",
       "      <td>1900-10-13</td>\n",
       "      <td>1900</td>\n",
       "      <td>0</td>\n",
       "      <td>NaN</td>\n",
       "      <td>PHI</td>\n",
       "      <td>ATL</td>\n",
       "      <td>1528.634</td>\n",
       "      <td>1531.476</td>\n",
       "      <td>0.530411</td>\n",
       "      <td>0.469589</td>\n",
       "      <td>1531.161</td>\n",
       "      <td>1528.950</td>\n",
       "      <td>1528.548</td>\n",
       "      <td>1531.312</td>\n",
       "      <td>lewit101</td>\n",
       "      <td>bernb101</td>\n",
       "      <td>NaN</td>\n",
       "      <td>NaN</td>\n",
       "      <td>NaN</td>\n",
       "      <td>NaN</td>\n",
       "      <td>0.530523</td>\n",
       "      <td>0.469477</td>\n",
       "      <td>1531.074</td>\n",
       "      <td>1528.786</td>\n",
       "      <td>8</td>\n",
       "      <td>3</td>\n",
       "    </tr>\n",
       "  </tbody>\n",
       "</table>\n",
       "</div>"
      ],
      "text/plain": [
       "        date  season  neutral  playoff team1 team2  elo1_pre  elo2_pre  \\\n",
       "0 1900-10-14    1900        0      NaN   STL   CIN  1506.277  1507.865   \n",
       "1 1900-10-13    1900        0      NaN   STL   CIN  1505.011  1509.132   \n",
       "2 1900-10-13    1900        0      NaN   SFG   LAD  1486.138  1549.014   \n",
       "3 1900-10-13    1900        0      NaN   PIT   CHC  1565.552  1477.651   \n",
       "4 1900-10-13    1900        0      NaN   PHI   ATL  1528.634  1531.476   \n",
       "\n",
       "   elo_prob1  elo_prob2  elo1_post  elo2_post  rating1_pre  rating2_pre  \\\n",
       "0   0.532209   0.467791   1509.500   1504.643     1506.484     1507.811   \n",
       "1   0.528577   0.471423   1506.277   1507.865     1505.217     1509.078   \n",
       "2   0.444285   0.555715   1484.965   1550.187     1486.097     1549.106   \n",
       "3   0.655692   0.344308   1563.168   1480.035     1565.659     1477.571   \n",
       "4   0.530411   0.469589   1531.161   1528.950     1528.548     1531.312   \n",
       "\n",
       "   pitcher1  pitcher2  pitcher1_rgs  pitcher2_rgs  pitcher1_adj  pitcher2_adj  \\\n",
       "0  scote102  sudhw101           NaN           NaN           NaN           NaN   \n",
       "1  hahnn101  jonec107           NaN           NaN           NaN           NaN   \n",
       "2  howeh101  tayld102           NaN           NaN           NaN           NaN   \n",
       "3  menej101  tannj101           NaN           NaN           NaN           NaN   \n",
       "4  lewit101  bernb101           NaN           NaN           NaN           NaN   \n",
       "\n",
       "   rating_prob1  rating_prob2  rating1_post  rating2_post  score1  score2  \n",
       "0      0.532583      0.467417      1509.703      1504.592       7       0  \n",
       "1      0.531808      0.468192      1506.484      1507.811       3       2  \n",
       "2      0.444096      0.555904      1484.925      1550.278       0       1  \n",
       "3      0.655935      0.344065      1563.273      1479.956       5       7  \n",
       "4      0.530523      0.469477      1531.074      1528.786       8       3  "
      ]
     },
     "execution_count": 34,
     "metadata": {},
     "output_type": "execute_result"
    }
   ],
   "source": [
    "data1.head()"
   ]
  },
  {
   "cell_type": "code",
   "execution_count": 35,
   "metadata": {
    "collapsed": false
   },
   "outputs": [],
   "source": [
    "data=pd.concat([data1,data2,data3],axis=0)"
   ]
  },
  {
   "cell_type": "code",
   "execution_count": 36,
   "metadata": {
    "collapsed": false
   },
   "outputs": [],
   "source": [
    "# select a team\n",
    "team='CHC'"
   ]
  },
  {
   "cell_type": "code",
   "execution_count": 37,
   "metadata": {
    "collapsed": false
   },
   "outputs": [],
   "source": [
    "data_team=data[(data.team1==team) | (data.team2==team)]"
   ]
  },
  {
   "cell_type": "code",
   "execution_count": 38,
   "metadata": {
    "collapsed": false
   },
   "outputs": [],
   "source": [
    "# "
   ]
  },
  {
   "cell_type": "code",
   "execution_count": 39,
   "metadata": {
    "collapsed": true
   },
   "outputs": [],
   "source": [
    "def pre_rating_of_tgt_team(team1,team2,pre_team1_rating,pre_team2_rating,post_team1_rating,post_team2_rating,team):\n",
    "    if team1==team:\n",
    "        return pre_team1_rating\n",
    "    else:\n",
    "        return pre_team2_rating\n",
    "    \n",
    "def post_rating_of_tgt_team(team1,team2,pre_team1_rating,pre_team2_rating,post_team1_rating,post_team2_rating,team):\n",
    "    if team1==team:\n",
    "        return post_team1_rating\n",
    "    else:\n",
    "        return post_team2_rating"
   ]
  },
  {
   "cell_type": "code",
   "execution_count": 40,
   "metadata": {
    "collapsed": false
   },
   "outputs": [
    {
     "name": "stderr",
     "output_type": "stream",
     "text": [
      "/opt/conda/lib/python3.6/site-packages/pandas/core/indexing.py:297: SettingWithCopyWarning: \n",
      "A value is trying to be set on a copy of a slice from a DataFrame.\n",
      "Try using .loc[row_indexer,col_indexer] = value instead\n",
      "\n",
      "See the caveats in the documentation: http://pandas.pydata.org/pandas-docs/stable/indexing.html#indexing-view-versus-copy\n",
      "  self.obj[key] = _infer_fill_value(value)\n",
      "/opt/conda/lib/python3.6/site-packages/pandas/core/indexing.py:477: SettingWithCopyWarning: \n",
      "A value is trying to be set on a copy of a slice from a DataFrame.\n",
      "Try using .loc[row_indexer,col_indexer] = value instead\n",
      "\n",
      "See the caveats in the documentation: http://pandas.pydata.org/pandas-docs/stable/indexing.html#indexing-view-versus-copy\n",
      "  self.obj[item] = s\n"
     ]
    }
   ],
   "source": [
    "data_team.loc[:,'pre_rating']=data_team.apply(lambda x : pre_rating_of_tgt_team(x['team1'],x['team2'],x['rating1_pre'],x['rating2_pre'],x['rating1_post'],x['rating2_post'],team),axis=1)"
   ]
  },
  {
   "cell_type": "code",
   "execution_count": 41,
   "metadata": {
    "collapsed": false
   },
   "outputs": [
    {
     "name": "stderr",
     "output_type": "stream",
     "text": [
      "/opt/conda/lib/python3.6/site-packages/pandas/core/indexing.py:297: SettingWithCopyWarning: \n",
      "A value is trying to be set on a copy of a slice from a DataFrame.\n",
      "Try using .loc[row_indexer,col_indexer] = value instead\n",
      "\n",
      "See the caveats in the documentation: http://pandas.pydata.org/pandas-docs/stable/indexing.html#indexing-view-versus-copy\n",
      "  self.obj[key] = _infer_fill_value(value)\n",
      "/opt/conda/lib/python3.6/site-packages/pandas/core/indexing.py:477: SettingWithCopyWarning: \n",
      "A value is trying to be set on a copy of a slice from a DataFrame.\n",
      "Try using .loc[row_indexer,col_indexer] = value instead\n",
      "\n",
      "See the caveats in the documentation: http://pandas.pydata.org/pandas-docs/stable/indexing.html#indexing-view-versus-copy\n",
      "  self.obj[item] = s\n"
     ]
    }
   ],
   "source": [
    "data_team.loc[:,'post_rating']=data_team.apply(lambda x : post_rating_of_tgt_team(x['team1'],x['team2'],x['rating1_pre'],x['rating2_pre'],x['rating1_post'],x['rating2_post'],team),axis=1)"
   ]
  },
  {
   "cell_type": "code",
   "execution_count": 42,
   "metadata": {
    "collapsed": false
   },
   "outputs": [],
   "source": [
    "data_team=data_team[['date','season','team1','team2','pre_rating','post_rating']]"
   ]
  },
  {
   "cell_type": "code",
   "execution_count": 43,
   "metadata": {
    "collapsed": false
   },
   "outputs": [
    {
     "data": {
      "text/html": [
       "<div>\n",
       "<table border=\"1\" class=\"dataframe\">\n",
       "  <thead>\n",
       "    <tr style=\"text-align: right;\">\n",
       "      <th></th>\n",
       "      <th>date</th>\n",
       "      <th>season</th>\n",
       "      <th>team1</th>\n",
       "      <th>team2</th>\n",
       "      <th>pre_rating</th>\n",
       "      <th>post_rating</th>\n",
       "    </tr>\n",
       "  </thead>\n",
       "  <tbody>\n",
       "    <tr>\n",
       "      <th>3</th>\n",
       "      <td>1900-10-13</td>\n",
       "      <td>1900</td>\n",
       "      <td>PIT</td>\n",
       "      <td>CHC</td>\n",
       "      <td>1477.571</td>\n",
       "      <td>1479.956</td>\n",
       "    </tr>\n",
       "    <tr>\n",
       "      <th>5</th>\n",
       "      <td>1900-10-12</td>\n",
       "      <td>1900</td>\n",
       "      <td>PIT</td>\n",
       "      <td>CHC</td>\n",
       "      <td>1479.099</td>\n",
       "      <td>1477.571</td>\n",
       "    </tr>\n",
       "    <tr>\n",
       "      <th>8</th>\n",
       "      <td>1900-10-11</td>\n",
       "      <td>1900</td>\n",
       "      <td>PIT</td>\n",
       "      <td>CHC</td>\n",
       "      <td>1479.958</td>\n",
       "      <td>1479.099</td>\n",
       "    </tr>\n",
       "    <tr>\n",
       "      <th>14</th>\n",
       "      <td>1900-10-08</td>\n",
       "      <td>1900</td>\n",
       "      <td>CHC</td>\n",
       "      <td>CIN</td>\n",
       "      <td>1483.809</td>\n",
       "      <td>1479.958</td>\n",
       "    </tr>\n",
       "    <tr>\n",
       "      <th>16</th>\n",
       "      <td>1900-10-08</td>\n",
       "      <td>1900</td>\n",
       "      <td>CHC</td>\n",
       "      <td>CIN</td>\n",
       "      <td>1488.092</td>\n",
       "      <td>1483.809</td>\n",
       "    </tr>\n",
       "  </tbody>\n",
       "</table>\n",
       "</div>"
      ],
      "text/plain": [
       "         date  season team1 team2  pre_rating  post_rating\n",
       "3  1900-10-13    1900   PIT   CHC    1477.571     1479.956\n",
       "5  1900-10-12    1900   PIT   CHC    1479.099     1477.571\n",
       "8  1900-10-11    1900   PIT   CHC    1479.958     1479.099\n",
       "14 1900-10-08    1900   CHC   CIN    1483.809     1479.958\n",
       "16 1900-10-08    1900   CHC   CIN    1488.092     1483.809"
      ]
     },
     "execution_count": 43,
     "metadata": {},
     "output_type": "execute_result"
    }
   ],
   "source": [
    "data_team.head()"
   ]
  },
  {
   "cell_type": "code",
   "execution_count": 44,
   "metadata": {
    "collapsed": false
   },
   "outputs": [],
   "source": [
    "min_max_dt_season=data_team.groupby('season').aggregate({'date':[min,max]})\n",
    "min_max_dt_season.columns=min_max_dt_season.columns.droplevel(0)"
   ]
  },
  {
   "cell_type": "code",
   "execution_count": 45,
   "metadata": {
    "collapsed": false
   },
   "outputs": [],
   "source": [
    "min_max_dt_season=min_max_dt_season.merge(data_team,left_on='min',right_on='date',how='left')[['season','min','max','pre_rating']]\n"
   ]
  },
  {
   "cell_type": "code",
   "execution_count": 46,
   "metadata": {
    "collapsed": false
   },
   "outputs": [],
   "source": [
    "min_max_dt_season=min_max_dt_season.merge(data_team[['date','post_rating']],left_on='max',right_on='date',how='left')[['season','min','max','pre_rating','post_rating']]\n"
   ]
  },
  {
   "cell_type": "code",
   "execution_count": 47,
   "metadata": {
    "collapsed": false
   },
   "outputs": [],
   "source": [
    "min_max_dt_season=min_max_dt_season[min_max_dt_season.season>=1950]"
   ]
  },
  {
   "cell_type": "code",
   "execution_count": 48,
   "metadata": {
    "collapsed": false
   },
   "outputs": [],
   "source": [
    "min_max_dt_season=min_max_dt_season.set_index('season')\n",
    "\n"
   ]
  },
  {
   "cell_type": "code",
   "execution_count": 49,
   "metadata": {
    "collapsed": false
   },
   "outputs": [
    {
     "data": {
      "text/html": [
       "<div>\n",
       "<table border=\"1\" class=\"dataframe\">\n",
       "  <thead>\n",
       "    <tr style=\"text-align: right;\">\n",
       "      <th></th>\n",
       "      <th>min</th>\n",
       "      <th>max</th>\n",
       "      <th>pre_rating</th>\n",
       "      <th>post_rating</th>\n",
       "    </tr>\n",
       "    <tr>\n",
       "      <th>season</th>\n",
       "      <th></th>\n",
       "      <th></th>\n",
       "      <th></th>\n",
       "      <th></th>\n",
       "    </tr>\n",
       "  </thead>\n",
       "  <tbody>\n",
       "    <tr>\n",
       "      <th>1950</th>\n",
       "      <td>1950-04-18</td>\n",
       "      <td>1950-10-01</td>\n",
       "      <td>1467.021</td>\n",
       "      <td>1443.018</td>\n",
       "    </tr>\n",
       "    <tr>\n",
       "      <th>1951</th>\n",
       "      <td>1951-04-17</td>\n",
       "      <td>1951-09-30</td>\n",
       "      <td>1463.679</td>\n",
       "      <td>1438.283</td>\n",
       "    </tr>\n",
       "    <tr>\n",
       "      <th>1951</th>\n",
       "      <td>1951-04-17</td>\n",
       "      <td>1951-09-30</td>\n",
       "      <td>1463.679</td>\n",
       "      <td>1440.206</td>\n",
       "    </tr>\n",
       "    <tr>\n",
       "      <th>1952</th>\n",
       "      <td>1952-04-15</td>\n",
       "      <td>1952-09-28</td>\n",
       "      <td>1460.522</td>\n",
       "      <td>1499.632</td>\n",
       "    </tr>\n",
       "    <tr>\n",
       "      <th>1953</th>\n",
       "      <td>1953-04-14</td>\n",
       "      <td>1953-09-27</td>\n",
       "      <td>1501.422</td>\n",
       "      <td>1467.700</td>\n",
       "    </tr>\n",
       "  </tbody>\n",
       "</table>\n",
       "</div>"
      ],
      "text/plain": [
       "              min        max  pre_rating  post_rating\n",
       "season                                               \n",
       "1950   1950-04-18 1950-10-01    1467.021     1443.018\n",
       "1951   1951-04-17 1951-09-30    1463.679     1438.283\n",
       "1951   1951-04-17 1951-09-30    1463.679     1440.206\n",
       "1952   1952-04-15 1952-09-28    1460.522     1499.632\n",
       "1953   1953-04-14 1953-09-27    1501.422     1467.700"
      ]
     },
     "execution_count": 49,
     "metadata": {},
     "output_type": "execute_result"
    }
   ],
   "source": [
    "min_max_dt_season.head()"
   ]
  },
  {
   "cell_type": "code",
   "execution_count": 50,
   "metadata": {
    "collapsed": false
   },
   "outputs": [],
   "source": [
    "color=['red'  if x>=y else 'green' for x,y in zip(min_max_dt_season['pre_rating'],min_max_dt_season['post_rating'])]\n"
   ]
  },
  {
   "cell_type": "code",
   "execution_count": 51,
   "metadata": {
    "collapsed": false
   },
   "outputs": [
    {
     "data": {
      "text/plain": [
       "['red',\n",
       " 'red',\n",
       " 'red',\n",
       " 'green',\n",
       " 'red',\n",
       " 'red',\n",
       " 'red',\n",
       " 'red',\n",
       " 'red',\n",
       " 'green',\n",
       " 'green',\n",
       " 'red',\n",
       " 'red',\n",
       " 'red',\n",
       " 'green',\n",
       " 'red',\n",
       " 'red',\n",
       " 'red',\n",
       " 'green',\n",
       " 'green',\n",
       " 'green',\n",
       " 'green',\n",
       " 'red',\n",
       " 'green',\n",
       " 'red',\n",
       " 'red',\n",
       " 'red',\n",
       " 'red',\n",
       " 'red',\n",
       " 'red',\n",
       " 'red',\n",
       " 'green',\n",
       " 'red',\n",
       " 'red',\n",
       " 'green',\n",
       " 'red',\n",
       " 'green',\n",
       " 'red',\n",
       " 'red',\n",
       " 'red',\n",
       " 'green',\n",
       " 'green',\n",
       " 'red',\n",
       " 'red',\n",
       " 'red',\n",
       " 'green',\n",
       " 'red',\n",
       " 'green',\n",
       " 'red',\n",
       " 'red',\n",
       " 'green',\n",
       " 'red']"
      ]
     },
     "execution_count": 51,
     "metadata": {},
     "output_type": "execute_result"
    }
   ],
   "source": [
    "color"
   ]
  },
  {
   "cell_type": "code",
   "execution_count": 25,
   "metadata": {
    "collapsed": false
   },
   "outputs": [],
   "source": [
    "max_list=list(min_max_dt_season[[\"post_rating\", \"pre_rating\"]].max(axis=1))\n",
    "min_list=list(min_max_dt_season[[\"post_rating\", \"pre_rating\"]].min(axis=1))"
   ]
  },
  {
   "cell_type": "code",
   "execution_count": 84,
   "metadata": {
    "collapsed": false
   },
   "outputs": [
    {
     "name": "stdout",
     "output_type": "stream",
     "text": [
      "1949.87 27.00299999999993\n",
      "1950.87 28.396000000000186\n",
      "1950.87 26.473000000000184\n",
      "1951.87 42.11000000000013\n",
      "1952.87 36.72199999999998\n",
      "1953.87 18.759000000000015\n",
      "1954.87 15.490999999999985\n",
      "1955.87 30.517000000000053\n",
      "1956.87 4.77800000000002\n",
      "1957.87 8.522000000000162\n",
      "1958.87 5.545999999999822\n",
      "1959.87 43.572000000000116\n",
      "1960.87 19.666999999999916\n",
      "1961.87 44.62999999999988\n",
      "1962.87 26.00799999999981\n",
      "1963.87 13.945000000000164\n",
      "1964.87 27.101000000000113\n",
      "1965.87 27.866999999999962\n",
      "1966.87 47.264000000000124\n",
      "1967.87 6.4220000000000255\n",
      "1968.87 3.048999999999978\n",
      "1969.87 21.595000000000027\n",
      "1970.87 23.498999999999796\n",
      "1971.87 32.88599999999997\n",
      "1972.87 43.03800000000001\n",
      "1973.87 41.460000000000036\n",
      "1974.87 9.274999999999864\n",
      "1975.87 6.9500000000000455\n",
      "1976.87 13.123000000000047\n",
      "1976.87 12.105999999999995\n",
      "1977.87 10.06899999999996\n",
      "1978.87 10.238000000000056\n",
      "1979.87 49.837999999999965\n",
      "1980.87 18.985999999999876\n",
      "1981.87 28.971000000000004\n",
      "1982.87 17.812000000000126\n",
      "1983.87 51.22700000000009\n",
      "1984.87 37.40499999999997\n",
      "1985.87 24.817000000000007\n",
      "1986.87 18.223999999999933\n",
      "1987.87 4.653999999999996\n",
      "1988.87 40.1579999999999\n",
      "1989.87 35.718999999999824\n",
      "1990.87 10.469000000000051\n",
      "1991.87 6.125\n",
      "1992.87 13.353000000000065\n",
      "1993.87 25.108999999999924\n",
      "1994.87 17.634000000000015\n",
      "1995.87 15.030999999999949\n",
      "1996.87 27.626999999999953\n",
      "1997.87 28.194999999999936\n",
      "1998.87 63.853999999999814\n"
     ]
    },
    {
     "name": "stderr",
     "output_type": "stream",
     "text": [
      "/opt/conda/lib/python3.6/site-packages/matplotlib/axes/_axes.py:545: UserWarning: No labelled objects found. Use label='...' kwarg on individual plots.\n",
      "  warnings.warn(\"No labelled objects found. \"\n"
     ]
    }
   ],
   "source": [
    "import matplotlib.ticker as ticker\n",
    "\n",
    "plt.figure(figsize=(30,10))\n",
    "plt.bar(height=[a-b for a,b in zip(max_list,min_list)],left=list(min_max_dt_season.index),width=0.5,color=color,bottom=min_list)\n",
    "ax=plt.gca()\n",
    "\n",
    "\n",
    "ax.xaxis.set_major_locator(ticker.MultipleLocator(1))\n",
    "\n",
    "x=plt.gca().xaxis\n",
    "\n",
    "for item in  x.get_ticklabels():\n",
    "    item.set_rotation(45)\n",
    "    \n",
    "\n",
    "ax=plt.gca()\n",
    "ax.legend(loc=\"lower right\");\n",
    "ax.set_xlim(1940,2010)\n",
    "ax.set_ylim(1400,1600)\n",
    "\n",
    "\n",
    "    \n",
    "for i in ax.patches:\n",
    "    print(i.get_x()+.12, i.get_height()+3)\n",
    "    ax.text(i.get_x()+.12, i.get_height()+3, \\\n",
    "        str(round((i.get_height()), 2))+'%', fontsize=5,\n",
    "                color='black',transform=ax.transAxes)\n",
    "\n",
    "ttl = ax.set_title('Team\\'s Rating Before and After each Season - \\'%s\\''%(team), fontsize=18, color='black')\n",
    "ttl.set_position([.5, 1.02])\n",
    "\n",
    "# \n"
   ]
  },
  {
   "cell_type": "code",
   "execution_count": null,
   "metadata": {
    "collapsed": false
   },
   "outputs": [],
   "source": [
    "ax.get_anchor()"
   ]
  },
  {
   "cell_type": "code",
   "execution_count": 83,
   "metadata": {
    "collapsed": false
   },
   "outputs": [
    {
     "data": {
      "text/plain": [
       "[1950,\n",
       " 1951,\n",
       " 1951,\n",
       " 1952,\n",
       " 1953,\n",
       " 1954,\n",
       " 1955,\n",
       " 1956,\n",
       " 1957,\n",
       " 1958,\n",
       " 1959,\n",
       " 1960,\n",
       " 1961,\n",
       " 1962,\n",
       " 1963,\n",
       " 1964,\n",
       " 1965,\n",
       " 1966,\n",
       " 1967,\n",
       " 1968,\n",
       " 1969,\n",
       " 1970,\n",
       " 1971,\n",
       " 1972,\n",
       " 1973,\n",
       " 1974,\n",
       " 1975,\n",
       " 1976,\n",
       " 1977,\n",
       " 1977,\n",
       " 1978,\n",
       " 1979,\n",
       " 1980,\n",
       " 1981,\n",
       " 1982,\n",
       " 1983,\n",
       " 1984,\n",
       " 1985,\n",
       " 1986,\n",
       " 1987,\n",
       " 1988,\n",
       " 1989,\n",
       " 1990,\n",
       " 1991,\n",
       " 1992,\n",
       " 1993,\n",
       " 1994,\n",
       " 1995,\n",
       " 1996,\n",
       " 1997,\n",
       " 1998,\n",
       " 1999]"
      ]
     },
     "execution_count": 83,
     "metadata": {},
     "output_type": "execute_result"
    }
   ],
   "source": [
    "list(min_max_dt_season.index)"
   ]
  },
  {
   "cell_type": "code",
   "execution_count": null,
   "metadata": {
    "collapsed": true
   },
   "outputs": [],
   "source": []
  }
 ],
 "metadata": {
  "kernelspec": {
   "display_name": "Python 3",
   "language": "python",
   "name": "python3"
  },
  "language_info": {
   "codemirror_mode": {
    "name": "ipython",
    "version": 3
   },
   "file_extension": ".py",
   "mimetype": "text/x-python",
   "name": "python",
   "nbconvert_exporter": "python",
   "pygments_lexer": "ipython3",
   "version": "3.6.2"
  }
 },
 "nbformat": 4,
 "nbformat_minor": 1
}
